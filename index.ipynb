{
 "cells": [
  {
   "cell_type": "code",
   "execution_count": 1,
   "metadata": {},
   "outputs": [],
   "source": [
    "import pandas as pd;\n",
    "import tensorflow as tf\n",
    "import keras_preprocessing\n",
    "from keras_preprocessing import image\n",
    "from keras_preprocessing.image import ImageDataGenerator"
   ]
  },
  {
   "cell_type": "code",
   "execution_count": 2,
   "metadata": {},
   "outputs": [
    {
     "name": "stdout",
     "output_type": "stream",
     "text": [
      "Found 6166 images belonging to 2 classes.\n",
      "Found 0 images belonging to 0 classes.\n"
     ]
    }
   ],
   "source": [
    "TRAINING_DIR = \"./data/train\"\n",
    "VALIDATION_DIR = \"./data/valid\"\n",
    "\n",
    "training_datagen = ImageDataGenerator(rescale = 1./255, horizontal_flip = True, rotation_range = 30, height_shift_range = 0.2, fill_mode = 'nearest')\n",
    "validation_datagen = ImageDataGenerator(rescale = 1./255)\n",
    "\n",
    "train_generator = training_datagen.flow_from_directory(TRAINING_DIR, target_size = (244, 244), class_mode = 'categorical', batch_size = 64)\n",
    "validation_generator = validation_datagen.flow_from_directory(VALIDATION_DIR, target_size = (244, 244), class_mode = 'categorical', batch_size = 64)"
   ]
  },
  {
   "cell_type": "code",
   "execution_count": 3,
   "metadata": {},
   "outputs": [],
   "source": [
    "from tensorflow.keras.optimizers import Adam\n",
    "\n",
    "model = tf.keras.models.Sequential([\n",
    "    tf.keras.layers.Conv2D(96, (11, 11), strides = (4, 4), activation= 'relu', input_shape= (244, 244, 3)),\n",
    "    tf.keras.layers.MaxPooling2D(pool_size = (3, 3), strides = (2, 2)),\n",
    "    tf.keras.layers.Conv2D(256, (5,5), activation = 'relu'),\n",
    "    tf.keras.layers.MaxPooling2D(pool_size = (3, 3), strides = (2, 2)),\n",
    "    tf.keras.layers.Conv2D(384, (5,5), activation = 'relu'),\n",
    "    tf.keras.layers.MaxPooling2D(pool_size = (3, 3), strides = (2, 2)),\n",
    "    tf.keras.layers.Flatten(),\n",
    "    tf.keras.layers.Dropout(0.2),\n",
    "    tf.keras.layers.Dense(2048, activation = 'relu'),\n",
    "    tf.keras.layers.Dropout(0.25),\n",
    "    tf.keras.layers.Dense(1024, activation = 'relu'),\n",
    "    tf.keras.layers.Dropout(0.2),\n",
    "    tf.keras.layers.Dense(2, activation = 'softmax'),\n",
    "])"
   ]
  },
  {
   "cell_type": "code",
   "execution_count": 4,
   "metadata": {},
   "outputs": [
    {
     "name": "stderr",
     "output_type": "stream",
     "text": [
      "C:\\Users\\Matheus\\AppData\\Local\\Programs\\Python\\Python310\\lib\\site-packages\\keras\\optimizer_v2\\adam.py:105: UserWarning: The `lr` argument is deprecated, use `learning_rate` instead.\n",
      "  super(Adam, self).__init__(name, **kwargs)\n"
     ]
    },
    {
     "name": "stdout",
     "output_type": "stream",
     "text": [
      "Epoch 1/50\n",
      "15/15 [==============================] - 33s 2s/step - loss: 0.5174 - acc: 0.7646\n",
      "Epoch 2/50\n",
      " 5/15 [=========>....................] - ETA: 17s - loss: 0.5066 - acc: 0.7656"
     ]
    },
    {
     "name": "stderr",
     "output_type": "stream",
     "text": [
      "C:\\Users\\Matheus\\AppData\\Local\\Programs\\Python\\Python310\\lib\\site-packages\\PIL\\Image.py:945: UserWarning: Palette images with Transparency expressed in bytes should be converted to RGBA images\n",
      "  warnings.warn(\n"
     ]
    },
    {
     "name": "stdout",
     "output_type": "stream",
     "text": [
      "15/15 [==============================] - 29s 2s/step - loss: 0.5069 - acc: 0.7688\n",
      "Epoch 3/50\n",
      "15/15 [==============================] - 29s 2s/step - loss: 0.5313 - acc: 0.7792\n",
      "Epoch 4/50\n",
      "15/15 [==============================] - 32s 2s/step - loss: 0.4802 - acc: 0.7937\n",
      "Epoch 5/50\n",
      "15/15 [==============================] - 29s 2s/step - loss: 0.4726 - acc: 0.8094\n",
      "Epoch 6/50\n",
      "15/15 [==============================] - 30s 2s/step - loss: 0.4732 - acc: 0.7948\n",
      "Epoch 7/50\n",
      "15/15 [==============================] - 34s 2s/step - loss: 0.4776 - acc: 0.8010\n",
      "Epoch 8/50\n",
      "15/15 [==============================] - 57s 4s/step - loss: 0.4290 - acc: 0.8260\n",
      "Epoch 9/50\n",
      "15/15 [==============================] - 49s 3s/step - loss: 0.4282 - acc: 0.8188\n",
      "Epoch 10/50\n",
      "15/15 [==============================] - 48s 3s/step - loss: 0.5165 - acc: 0.8126\n",
      "Epoch 11/50\n",
      "15/15 [==============================] - 52s 3s/step - loss: 0.4509 - acc: 0.8126\n",
      "Epoch 12/50\n",
      "15/15 [==============================] - 54s 3s/step - loss: 0.4500 - acc: 0.8177\n",
      "Epoch 13/50\n",
      "15/15 [==============================] - 53s 3s/step - loss: 0.4433 - acc: 0.8125\n",
      "Epoch 14/50\n",
      "15/15 [==============================] - 51s 3s/step - loss: 0.4241 - acc: 0.8224\n",
      "Epoch 15/50\n",
      "15/15 [==============================] - 51s 3s/step - loss: 0.4220 - acc: 0.8344\n",
      "Epoch 16/50\n",
      "15/15 [==============================] - 51s 3s/step - loss: 0.4088 - acc: 0.8344\n",
      "Epoch 17/50\n",
      "15/15 [==============================] - 51s 3s/step - loss: 0.4106 - acc: 0.8281\n",
      "Epoch 18/50\n",
      "15/15 [==============================] - 59s 4s/step - loss: 0.3965 - acc: 0.8385\n",
      "Epoch 19/50\n",
      "15/15 [==============================] - 56s 4s/step - loss: 0.4088 - acc: 0.8385\n",
      "Epoch 20/50\n",
      "15/15 [==============================] - 55s 4s/step - loss: 0.3647 - acc: 0.8583\n",
      "Epoch 21/50\n",
      "15/15 [==============================] - 59s 4s/step - loss: 0.4060 - acc: 0.8229\n",
      "Epoch 22/50\n",
      "15/15 [==============================] - 56s 4s/step - loss: 0.3911 - acc: 0.8365\n",
      "Epoch 23/50\n",
      "15/15 [==============================] - 59s 4s/step - loss: 0.3925 - acc: 0.8302\n",
      "Epoch 24/50\n",
      "15/15 [==============================] - 32s 2s/step - loss: 0.4012 - acc: 0.8271\n",
      "Epoch 25/50\n",
      "15/15 [==============================] - 35s 2s/step - loss: 0.3824 - acc: 0.8519\n",
      "Epoch 26/50\n",
      "15/15 [==============================] - 61s 4s/step - loss: 0.4041 - acc: 0.8271\n",
      "Epoch 27/50\n",
      "15/15 [==============================] - 58s 4s/step - loss: 0.3740 - acc: 0.8490\n",
      "Epoch 28/50\n",
      "15/15 [==============================] - 56s 4s/step - loss: 0.3549 - acc: 0.8573\n",
      "Epoch 29/50\n",
      "15/15 [==============================] - 55s 4s/step - loss: 0.3590 - acc: 0.8469\n",
      "Epoch 30/50\n",
      "15/15 [==============================] - 61s 4s/step - loss: 0.3616 - acc: 0.8562\n",
      "Epoch 31/50\n",
      "15/15 [==============================] - 59s 4s/step - loss: 0.3996 - acc: 0.8177\n",
      "Epoch 32/50\n",
      "15/15 [==============================] - 53s 3s/step - loss: 0.3786 - acc: 0.8406\n",
      "Epoch 33/50\n",
      "15/15 [==============================] - 61s 4s/step - loss: 0.4080 - acc: 0.8219\n",
      "Epoch 34/50\n",
      "15/15 [==============================] - 56s 4s/step - loss: 0.3715 - acc: 0.8531\n",
      "Epoch 35/50\n",
      "15/15 [==============================] - 48s 3s/step - loss: 0.3832 - acc: 0.8417\n",
      "Epoch 36/50\n",
      "15/15 [==============================] - 31s 2s/step - loss: 0.3352 - acc: 0.8479\n",
      "Epoch 37/50\n",
      "15/15 [==============================] - 47s 3s/step - loss: 0.3726 - acc: 0.8344\n",
      "Epoch 38/50\n",
      "15/15 [==============================] - 55s 4s/step - loss: 0.3285 - acc: 0.8583\n",
      "Epoch 39/50\n",
      "15/15 [==============================] - 58s 4s/step - loss: 0.3443 - acc: 0.8562\n",
      "Epoch 40/50\n",
      "15/15 [==============================] - 47s 3s/step - loss: 0.3523 - acc: 0.8531\n",
      "Epoch 41/50\n",
      "15/15 [==============================] - 75s 5s/step - loss: 0.3741 - acc: 0.8510\n",
      "Epoch 42/50\n",
      "15/15 [==============================] - 73s 5s/step - loss: 0.3431 - acc: 0.8667\n",
      "Epoch 43/50\n",
      "15/15 [==============================] - 67s 4s/step - loss: 0.3471 - acc: 0.8594\n",
      "Epoch 44/50\n",
      "15/15 [==============================] - 76s 5s/step - loss: 0.3642 - acc: 0.8417\n",
      "Epoch 45/50\n",
      "15/15 [==============================] - 72s 5s/step - loss: 0.3411 - acc: 0.8458\n",
      "Epoch 46/50\n",
      "15/15 [==============================] - 71s 5s/step - loss: 0.3543 - acc: 0.8594\n",
      "Epoch 47/50\n",
      "15/15 [==============================] - 74s 5s/step - loss: 0.3375 - acc: 0.8573\n",
      "Epoch 48/50\n",
      "15/15 [==============================] - 74s 5s/step - loss: 0.3394 - acc: 0.8583\n",
      "Epoch 49/50\n",
      "15/15 [==============================] - 71s 5s/step - loss: 0.3385 - acc: 0.8552\n",
      "Epoch 50/50\n",
      "15/15 [==============================] - 77s 5s/step - loss: 0.3054 - acc: 0.8750\n"
     ]
    }
   ],
   "source": [
    "model.compile(loss='categorical_crossentropy', optimizer=Adam(lr=0.0001), metrics=['acc'])\n",
    "\n",
    "history = model.fit(\n",
    "    train_generator,\n",
    "    steps_per_epoch = 15,\n",
    "    epochs = 50,\n",
    "    validation_data = validation_generator,\n",
    "    validation_steps = 15\n",
    ")"
   ]
  },
  {
   "cell_type": "code",
   "execution_count": 5,
   "metadata": {},
   "outputs": [
    {
     "name": "stdout",
     "output_type": "stream",
     "text": [
      "INFO:tensorflow:Assets written to: ram://5a60b88f-5d9c-4fad-bfc0-8e10d82466dd/assets\n"
     ]
    },
    {
     "data": {
      "text/plain": [
       "['modelo.pkl']"
      ]
     },
     "execution_count": 5,
     "metadata": {},
     "output_type": "execute_result"
    }
   ],
   "source": [
    "import joblib\n",
    "\n",
    "model.save('modelo.h5')\n",
    "joblib.dump(history, \"modelo.pkl\")"
   ]
  },
  {
   "cell_type": "code",
   "execution_count": 6,
   "metadata": {},
   "outputs": [
    {
     "ename": "FileNotFoundError",
     "evalue": "Unsuccessful TensorSliceReader constructor: Failed to find any matching files for ram://16cdd854-a06e-4ba1-980f-7c5c317309c2/variables/variables\n You may be trying to load on a different device from the computational device. Consider setting the `experimental_io_device` option in `tf.saved_model.LoadOptions` to the io_device such as '/job:localhost'.",
     "output_type": "error",
     "traceback": [
      "\u001b[1;31m---------------------------------------------------------------------------\u001b[0m",
      "\u001b[1;31mFileNotFoundError\u001b[0m                         Traceback (most recent call last)",
      "\u001b[1;32mc:\\Users\\Matheus\\OneDrive\\Documents\\visualStudio\\pessoal\\curupira2\\index.ipynb Cell 6'\u001b[0m in \u001b[0;36m<module>\u001b[1;34m\u001b[0m\n\u001b[0;32m      <a href='vscode-notebook-cell:/c%3A/Users/Matheus/OneDrive/Documents/visualStudio/pessoal/curupira2/index.ipynb#ch0000005?line=1'>2</a>\u001b[0m \u001b[39mfrom\u001b[39;00m \u001b[39mtensorflow\u001b[39;00m\u001b[39m.\u001b[39;00m\u001b[39mkeras\u001b[39;00m\u001b[39m.\u001b[39;00m\u001b[39mmodels\u001b[39;00m \u001b[39mimport\u001b[39;00m load_model\n\u001b[0;32m      <a href='vscode-notebook-cell:/c%3A/Users/Matheus/OneDrive/Documents/visualStudio/pessoal/curupira2/index.ipynb#ch0000005?line=3'>4</a>\u001b[0m saved_model \u001b[39m=\u001b[39m load_model(\u001b[39m'\u001b[39m\u001b[39mmodelo.h5\u001b[39m\u001b[39m'\u001b[39m)\n\u001b[1;32m----> <a href='vscode-notebook-cell:/c%3A/Users/Matheus/OneDrive/Documents/visualStudio/pessoal/curupira2/index.ipynb#ch0000005?line=4'>5</a>\u001b[0m saved_history \u001b[39m=\u001b[39m joblib\u001b[39m.\u001b[39;49mload(\u001b[39m\"\u001b[39;49m\u001b[39mmodelo.pkl\u001b[39;49m\u001b[39m\"\u001b[39;49m)\n\u001b[0;32m      <a href='vscode-notebook-cell:/c%3A/Users/Matheus/OneDrive/Documents/visualStudio/pessoal/curupira2/index.ipynb#ch0000005?line=6'>7</a>\u001b[0m plt\u001b[39m.\u001b[39mplot(saved_model\u001b[39m.\u001b[39mhistory[\u001b[39m'\u001b[39m\u001b[39maccuracy\u001b[39m\u001b[39m'\u001b[39m])\n\u001b[0;32m      <a href='vscode-notebook-cell:/c%3A/Users/Matheus/OneDrive/Documents/visualStudio/pessoal/curupira2/index.ipynb#ch0000005?line=7'>8</a>\u001b[0m plt\u001b[39m.\u001b[39mplot(saved_model\u001b[39m.\u001b[39mhistory[\u001b[39m'\u001b[39m\u001b[39mval_accuracy\u001b[39m\u001b[39m'\u001b[39m])\n",
      "File \u001b[1;32m~\\AppData\\Local\\Programs\\Python\\Python310\\lib\\site-packages\\joblib\\numpy_pickle.py:587\u001b[0m, in \u001b[0;36mload\u001b[1;34m(filename, mmap_mode)\u001b[0m\n\u001b[0;32m    <a href='file:///~/AppData/Local/Programs/Python/Python310/lib/site-packages/joblib/numpy_pickle.py?line=580'>581</a>\u001b[0m             \u001b[39mif\u001b[39;00m \u001b[39misinstance\u001b[39m(fobj, \u001b[39mstr\u001b[39m):\n\u001b[0;32m    <a href='file:///~/AppData/Local/Programs/Python/Python310/lib/site-packages/joblib/numpy_pickle.py?line=581'>582</a>\u001b[0m                 \u001b[39m# if the returned file object is a string, this means we\u001b[39;00m\n\u001b[0;32m    <a href='file:///~/AppData/Local/Programs/Python/Python310/lib/site-packages/joblib/numpy_pickle.py?line=582'>583</a>\u001b[0m                 \u001b[39m# try to load a pickle file generated with an version of\u001b[39;00m\n\u001b[0;32m    <a href='file:///~/AppData/Local/Programs/Python/Python310/lib/site-packages/joblib/numpy_pickle.py?line=583'>584</a>\u001b[0m                 \u001b[39m# Joblib so we load it with joblib compatibility function.\u001b[39;00m\n\u001b[0;32m    <a href='file:///~/AppData/Local/Programs/Python/Python310/lib/site-packages/joblib/numpy_pickle.py?line=584'>585</a>\u001b[0m                 \u001b[39mreturn\u001b[39;00m load_compatibility(fobj)\n\u001b[1;32m--> <a href='file:///~/AppData/Local/Programs/Python/Python310/lib/site-packages/joblib/numpy_pickle.py?line=586'>587</a>\u001b[0m             obj \u001b[39m=\u001b[39m _unpickle(fobj, filename, mmap_mode)\n\u001b[0;32m    <a href='file:///~/AppData/Local/Programs/Python/Python310/lib/site-packages/joblib/numpy_pickle.py?line=587'>588</a>\u001b[0m \u001b[39mreturn\u001b[39;00m obj\n",
      "File \u001b[1;32m~\\AppData\\Local\\Programs\\Python\\Python310\\lib\\site-packages\\joblib\\numpy_pickle.py:506\u001b[0m, in \u001b[0;36m_unpickle\u001b[1;34m(fobj, filename, mmap_mode)\u001b[0m\n\u001b[0;32m    <a href='file:///~/AppData/Local/Programs/Python/Python310/lib/site-packages/joblib/numpy_pickle.py?line=503'>504</a>\u001b[0m obj \u001b[39m=\u001b[39m \u001b[39mNone\u001b[39;00m\n\u001b[0;32m    <a href='file:///~/AppData/Local/Programs/Python/Python310/lib/site-packages/joblib/numpy_pickle.py?line=504'>505</a>\u001b[0m \u001b[39mtry\u001b[39;00m:\n\u001b[1;32m--> <a href='file:///~/AppData/Local/Programs/Python/Python310/lib/site-packages/joblib/numpy_pickle.py?line=505'>506</a>\u001b[0m     obj \u001b[39m=\u001b[39m unpickler\u001b[39m.\u001b[39;49mload()\n\u001b[0;32m    <a href='file:///~/AppData/Local/Programs/Python/Python310/lib/site-packages/joblib/numpy_pickle.py?line=506'>507</a>\u001b[0m     \u001b[39mif\u001b[39;00m unpickler\u001b[39m.\u001b[39mcompat_mode:\n\u001b[0;32m    <a href='file:///~/AppData/Local/Programs/Python/Python310/lib/site-packages/joblib/numpy_pickle.py?line=507'>508</a>\u001b[0m         warnings\u001b[39m.\u001b[39mwarn(\u001b[39m\"\u001b[39m\u001b[39mThe file \u001b[39m\u001b[39m'\u001b[39m\u001b[39m%s\u001b[39;00m\u001b[39m'\u001b[39m\u001b[39m has been generated with a \u001b[39m\u001b[39m\"\u001b[39m\n\u001b[0;32m    <a href='file:///~/AppData/Local/Programs/Python/Python310/lib/site-packages/joblib/numpy_pickle.py?line=508'>509</a>\u001b[0m                       \u001b[39m\"\u001b[39m\u001b[39mjoblib version less than 0.10. \u001b[39m\u001b[39m\"\u001b[39m\n\u001b[0;32m    <a href='file:///~/AppData/Local/Programs/Python/Python310/lib/site-packages/joblib/numpy_pickle.py?line=509'>510</a>\u001b[0m                       \u001b[39m\"\u001b[39m\u001b[39mPlease regenerate this pickle file.\u001b[39m\u001b[39m\"\u001b[39m\n\u001b[0;32m    <a href='file:///~/AppData/Local/Programs/Python/Python310/lib/site-packages/joblib/numpy_pickle.py?line=510'>511</a>\u001b[0m                       \u001b[39m%\u001b[39m filename,\n\u001b[0;32m    <a href='file:///~/AppData/Local/Programs/Python/Python310/lib/site-packages/joblib/numpy_pickle.py?line=511'>512</a>\u001b[0m                       \u001b[39mDeprecationWarning\u001b[39;00m, stacklevel\u001b[39m=\u001b[39m\u001b[39m3\u001b[39m)\n",
      "File \u001b[1;32m~\\AppData\\Local\\Programs\\Python\\Python310\\lib\\pickle.py:1213\u001b[0m, in \u001b[0;36m_Unpickler.load\u001b[1;34m(self)\u001b[0m\n\u001b[0;32m   <a href='file:///~/AppData/Local/Programs/Python/Python310/lib/pickle.py?line=1210'>1211</a>\u001b[0m             \u001b[39mraise\u001b[39;00m \u001b[39mEOFError\u001b[39;00m\n\u001b[0;32m   <a href='file:///~/AppData/Local/Programs/Python/Python310/lib/pickle.py?line=1211'>1212</a>\u001b[0m         \u001b[39massert\u001b[39;00m \u001b[39misinstance\u001b[39m(key, bytes_types)\n\u001b[1;32m-> <a href='file:///~/AppData/Local/Programs/Python/Python310/lib/pickle.py?line=1212'>1213</a>\u001b[0m         dispatch[key[\u001b[39m0\u001b[39;49m]](\u001b[39mself\u001b[39;49m)\n\u001b[0;32m   <a href='file:///~/AppData/Local/Programs/Python/Python310/lib/pickle.py?line=1213'>1214</a>\u001b[0m \u001b[39mexcept\u001b[39;00m _Stop \u001b[39mas\u001b[39;00m stopinst:\n\u001b[0;32m   <a href='file:///~/AppData/Local/Programs/Python/Python310/lib/pickle.py?line=1214'>1215</a>\u001b[0m     \u001b[39mreturn\u001b[39;00m stopinst\u001b[39m.\u001b[39mvalue\n",
      "File \u001b[1;32m~\\AppData\\Local\\Programs\\Python\\Python310\\lib\\pickle.py:1590\u001b[0m, in \u001b[0;36m_Unpickler.load_reduce\u001b[1;34m(self)\u001b[0m\n\u001b[0;32m   <a href='file:///~/AppData/Local/Programs/Python/Python310/lib/pickle.py?line=1587'>1588</a>\u001b[0m args \u001b[39m=\u001b[39m stack\u001b[39m.\u001b[39mpop()\n\u001b[0;32m   <a href='file:///~/AppData/Local/Programs/Python/Python310/lib/pickle.py?line=1588'>1589</a>\u001b[0m func \u001b[39m=\u001b[39m stack[\u001b[39m-\u001b[39m\u001b[39m1\u001b[39m]\n\u001b[1;32m-> <a href='file:///~/AppData/Local/Programs/Python/Python310/lib/pickle.py?line=1589'>1590</a>\u001b[0m stack[\u001b[39m-\u001b[39m\u001b[39m1\u001b[39m] \u001b[39m=\u001b[39m func(\u001b[39m*\u001b[39;49margs)\n",
      "File \u001b[1;32m~\\AppData\\Local\\Programs\\Python\\Python310\\lib\\site-packages\\keras\\saving\\pickle_utils.py:48\u001b[0m, in \u001b[0;36mdeserialize_model_from_bytecode\u001b[1;34m(serialized_model)\u001b[0m\n\u001b[0;32m     <a href='file:///~/AppData/Local/Programs/Python/Python310/lib/site-packages/keras/saving/pickle_utils.py?line=45'>46</a>\u001b[0m       \u001b[39mwith\u001b[39;00m tf\u001b[39m.\u001b[39mio\u001b[39m.\u001b[39mgfile\u001b[39m.\u001b[39mGFile(dest_path, \u001b[39m\"\u001b[39m\u001b[39mwb\u001b[39m\u001b[39m\"\u001b[39m) \u001b[39mas\u001b[39;00m f:\n\u001b[0;32m     <a href='file:///~/AppData/Local/Programs/Python/Python310/lib/site-packages/keras/saving/pickle_utils.py?line=46'>47</a>\u001b[0m         f\u001b[39m.\u001b[39mwrite(archive\u001b[39m.\u001b[39mextractfile(name)\u001b[39m.\u001b[39mread())\n\u001b[1;32m---> <a href='file:///~/AppData/Local/Programs/Python/Python310/lib/site-packages/keras/saving/pickle_utils.py?line=47'>48</a>\u001b[0m model \u001b[39m=\u001b[39m save_module\u001b[39m.\u001b[39;49mload_model(temp_dir)\n\u001b[0;32m     <a href='file:///~/AppData/Local/Programs/Python/Python310/lib/site-packages/keras/saving/pickle_utils.py?line=48'>49</a>\u001b[0m tf\u001b[39m.\u001b[39mio\u001b[39m.\u001b[39mgfile\u001b[39m.\u001b[39mrmtree(temp_dir)\n\u001b[0;32m     <a href='file:///~/AppData/Local/Programs/Python/Python310/lib/site-packages/keras/saving/pickle_utils.py?line=49'>50</a>\u001b[0m \u001b[39mreturn\u001b[39;00m model\n",
      "File \u001b[1;32m~\\AppData\\Local\\Programs\\Python\\Python310\\lib\\site-packages\\keras\\utils\\traceback_utils.py:67\u001b[0m, in \u001b[0;36mfilter_traceback.<locals>.error_handler\u001b[1;34m(*args, **kwargs)\u001b[0m\n\u001b[0;32m     <a href='file:///~/AppData/Local/Programs/Python/Python310/lib/site-packages/keras/utils/traceback_utils.py?line=64'>65</a>\u001b[0m \u001b[39mexcept\u001b[39;00m \u001b[39mException\u001b[39;00m \u001b[39mas\u001b[39;00m e:  \u001b[39m# pylint: disable=broad-except\u001b[39;00m\n\u001b[0;32m     <a href='file:///~/AppData/Local/Programs/Python/Python310/lib/site-packages/keras/utils/traceback_utils.py?line=65'>66</a>\u001b[0m   filtered_tb \u001b[39m=\u001b[39m _process_traceback_frames(e\u001b[39m.\u001b[39m__traceback__)\n\u001b[1;32m---> <a href='file:///~/AppData/Local/Programs/Python/Python310/lib/site-packages/keras/utils/traceback_utils.py?line=66'>67</a>\u001b[0m   \u001b[39mraise\u001b[39;00m e\u001b[39m.\u001b[39mwith_traceback(filtered_tb) \u001b[39mfrom\u001b[39;00m \u001b[39mNone\u001b[39m\n\u001b[0;32m     <a href='file:///~/AppData/Local/Programs/Python/Python310/lib/site-packages/keras/utils/traceback_utils.py?line=67'>68</a>\u001b[0m \u001b[39mfinally\u001b[39;00m:\n\u001b[0;32m     <a href='file:///~/AppData/Local/Programs/Python/Python310/lib/site-packages/keras/utils/traceback_utils.py?line=68'>69</a>\u001b[0m   \u001b[39mdel\u001b[39;00m filtered_tb\n",
      "File \u001b[1;32m~\\AppData\\Local\\Programs\\Python\\Python310\\lib\\site-packages\\tensorflow\\python\\saved_model\\load.py:977\u001b[0m, in \u001b[0;36mload_internal\u001b[1;34m(export_dir, tags, options, loader_cls, filters)\u001b[0m\n\u001b[0;32m    <a href='file:///~/AppData/Local/Programs/Python/Python310/lib/site-packages/tensorflow/python/saved_model/load.py?line=973'>974</a>\u001b[0m   loader \u001b[39m=\u001b[39m loader_cls(object_graph_proto, saved_model_proto, export_dir,\n\u001b[0;32m    <a href='file:///~/AppData/Local/Programs/Python/Python310/lib/site-packages/tensorflow/python/saved_model/load.py?line=974'>975</a>\u001b[0m                       ckpt_options, options, filters)\n\u001b[0;32m    <a href='file:///~/AppData/Local/Programs/Python/Python310/lib/site-packages/tensorflow/python/saved_model/load.py?line=975'>976</a>\u001b[0m \u001b[39mexcept\u001b[39;00m errors\u001b[39m.\u001b[39mNotFoundError \u001b[39mas\u001b[39;00m err:\n\u001b[1;32m--> <a href='file:///~/AppData/Local/Programs/Python/Python310/lib/site-packages/tensorflow/python/saved_model/load.py?line=976'>977</a>\u001b[0m   \u001b[39mraise\u001b[39;00m \u001b[39mFileNotFoundError\u001b[39;00m(\n\u001b[0;32m    <a href='file:///~/AppData/Local/Programs/Python/Python310/lib/site-packages/tensorflow/python/saved_model/load.py?line=977'>978</a>\u001b[0m       \u001b[39mstr\u001b[39m(err) \u001b[39m+\u001b[39m \u001b[39m\"\u001b[39m\u001b[39m\\n\u001b[39;00m\u001b[39m You may be trying to load on a different device \u001b[39m\u001b[39m\"\u001b[39m\n\u001b[0;32m    <a href='file:///~/AppData/Local/Programs/Python/Python310/lib/site-packages/tensorflow/python/saved_model/load.py?line=978'>979</a>\u001b[0m       \u001b[39m\"\u001b[39m\u001b[39mfrom the computational device. Consider setting the \u001b[39m\u001b[39m\"\u001b[39m\n\u001b[0;32m    <a href='file:///~/AppData/Local/Programs/Python/Python310/lib/site-packages/tensorflow/python/saved_model/load.py?line=979'>980</a>\u001b[0m       \u001b[39m\"\u001b[39m\u001b[39m`experimental_io_device` option in `tf.saved_model.LoadOptions` \u001b[39m\u001b[39m\"\u001b[39m\n\u001b[0;32m    <a href='file:///~/AppData/Local/Programs/Python/Python310/lib/site-packages/tensorflow/python/saved_model/load.py?line=980'>981</a>\u001b[0m       \u001b[39m\"\u001b[39m\u001b[39mto the io_device such as \u001b[39m\u001b[39m'\u001b[39m\u001b[39m/job:localhost\u001b[39m\u001b[39m'\u001b[39m\u001b[39m.\u001b[39m\u001b[39m\"\u001b[39m)\n\u001b[0;32m    <a href='file:///~/AppData/Local/Programs/Python/Python310/lib/site-packages/tensorflow/python/saved_model/load.py?line=981'>982</a>\u001b[0m root \u001b[39m=\u001b[39m loader\u001b[39m.\u001b[39mget(\u001b[39m0\u001b[39m)\n\u001b[0;32m    <a href='file:///~/AppData/Local/Programs/Python/Python310/lib/site-packages/tensorflow/python/saved_model/load.py?line=982'>983</a>\u001b[0m \u001b[39mif\u001b[39;00m \u001b[39misinstance\u001b[39m(loader, Loader):\n",
      "\u001b[1;31mFileNotFoundError\u001b[0m: Unsuccessful TensorSliceReader constructor: Failed to find any matching files for ram://16cdd854-a06e-4ba1-980f-7c5c317309c2/variables/variables\n You may be trying to load on a different device from the computational device. Consider setting the `experimental_io_device` option in `tf.saved_model.LoadOptions` to the io_device such as '/job:localhost'."
     ]
    }
   ],
   "source": [
    "import matplotlib.pyplot as plt\n",
    "from tensorflow.keras.models import load_model\n",
    "\n",
    "saved_model = load_model('modelo.h5')\n",
    "saved_history = joblib.load(\"modelo.pkl\")\n",
    "\n",
    "plt.plot(saved_model.history['accuracy'])\n",
    "plt.plot(saved_model.history['val_accuracy'])\n",
    "plt.title('Acuracia modelo 1')\n",
    "plt.xlabel('épocas')\n",
    "plt.ylabel('acurácias')\n",
    "plt.legend(['treino','avaliação'])"
   ]
  }
 ],
 "metadata": {
  "interpreter": {
   "hash": "a10458a105a8e79ddae6e87d8d7ac092a033c24b6f91712e92075243430a1e09"
  },
  "kernelspec": {
   "display_name": "Python 3.10.1 64-bit",
   "language": "python",
   "name": "python3"
  },
  "language_info": {
   "codemirror_mode": {
    "name": "ipython",
    "version": 3
   },
   "file_extension": ".py",
   "mimetype": "text/x-python",
   "name": "python",
   "nbconvert_exporter": "python",
   "pygments_lexer": "ipython3",
   "version": "3.10.1"
  },
  "orig_nbformat": 4
 },
 "nbformat": 4,
 "nbformat_minor": 2
}
