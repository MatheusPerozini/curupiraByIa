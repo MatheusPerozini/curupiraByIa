{
 "cells": [
  {
   "cell_type": "code",
   "execution_count": 10,
   "metadata": {},
   "outputs": [],
   "source": [
    "import pandas as pd;\n",
    "import tensorflow as tf\n",
    "import keras_preprocessing\n",
    "from keras_preprocessing import image\n",
    "from keras_preprocessing.image import ImageDataGenerator"
   ]
  },
  {
   "cell_type": "code",
   "execution_count": 11,
   "metadata": {},
   "outputs": [
    {
     "name": "stdout",
     "output_type": "stream",
     "text": [
      "Found 6166 images belonging to 2 classes.\n",
      "Found 0 images belonging to 0 classes.\n"
     ]
    }
   ],
   "source": [
    "TRAINING_DIR = \"./data/train\"\n",
    "VALIDATION_DIR = \"./data/valid\"\n",
    "\n",
    "training_datagen = ImageDataGenerator(rescale = 1./255, horizontal_flip = True, rotation_range = 30, height_shift_range = 0.2, fill_mode = 'nearest')\n",
    "validation_datagen = ImageDataGenerator(rescale = 1./255)\n",
    "\n",
    "train_generator = training_datagen.flow_from_directory(TRAINING_DIR, target_size = (244, 244), class_mode = 'categorical', batch_size = 64)\n",
    "validation_generator = validation_datagen.flow_from_directory(VALIDATION_DIR, target_size = (244, 244), class_mode = 'categorical', batch_size = 64)"
   ]
  },
  {
   "cell_type": "code",
   "execution_count": 12,
   "metadata": {},
   "outputs": [],
   "source": [
    "from tensorflow.keras.optimizers import Adam\n",
    "\n",
    "model = tf.keras.models.Sequential([\n",
    "    tf.keras.layers.Conv2D(96, (11, 11), strides = (4, 4), activation= 'relu', input_shape= (244, 244, 3)),\n",
    "    tf.keras.layers.MaxPooling2D(pool_size = (3, 3), strides = (2, 2)),\n",
    "    tf.keras.layers.Conv2D(256, (5,5), activation = 'relu'),\n",
    "    tf.keras.layers.MaxPooling2D(pool_size = (3, 3), strides = (2, 2)),\n",
    "    tf.keras.layers.Conv2D(384, (5,5), activation = 'relu'),\n",
    "    tf.keras.layers.MaxPooling2D(pool_size = (3, 3), strides = (2, 2)),\n",
    "    tf.keras.layers.Flatten(),\n",
    "    tf.keras.layers.Dropout(0.2),\n",
    "    tf.keras.layers.Dense(2048, activation = 'relu'),\n",
    "    tf.keras.layers.Dropout(0.25),\n",
    "    tf.keras.layers.Dense(1024, activation = 'relu'),\n",
    "    tf.keras.layers.Dropout(0.2),\n",
    "    tf.keras.layers.Dense(2, activation = 'softmax'),\n",
    "])"
   ]
  },
  {
   "cell_type": "code",
   "execution_count": 13,
   "metadata": {},
   "outputs": [
    {
     "name": "stdout",
     "output_type": "stream",
     "text": [
      "Epoch 1/50\n",
      " 7/15 [=============>................] - ETA: 20s - loss: 0.5664 - acc: 0.7589"
     ]
    },
    {
     "name": "stderr",
     "output_type": "stream",
     "text": [
      "C:\\Users\\Matheus\\AppData\\Local\\Programs\\Python\\Python310\\lib\\site-packages\\PIL\\Image.py:945: UserWarning: Palette images with Transparency expressed in bytes should be converted to RGBA images\n",
      "  warnings.warn(\n"
     ]
    },
    {
     "name": "stdout",
     "output_type": "stream",
     "text": [
      "15/15 [==============================] - 37s 2s/step - loss: 0.5418 - acc: 0.7708\n",
      "Epoch 2/50\n",
      "15/15 [==============================] - 33s 2s/step - loss: 0.5045 - acc: 0.7723\n",
      "Epoch 3/50\n",
      "15/15 [==============================] - 34s 2s/step - loss: 0.4764 - acc: 0.8031\n",
      "Epoch 4/50\n",
      "15/15 [==============================] - 36s 2s/step - loss: 0.4331 - acc: 0.8208\n",
      "Epoch 5/50\n",
      "15/15 [==============================] - 37s 2s/step - loss: 0.5184 - acc: 0.7885\n",
      "Epoch 6/50\n",
      "15/15 [==============================] - 40s 3s/step - loss: 0.4443 - acc: 0.8167\n",
      "Epoch 7/50\n",
      "15/15 [==============================] - 49s 3s/step - loss: 0.4396 - acc: 0.8167\n",
      "Epoch 8/50\n",
      "15/15 [==============================] - 41s 3s/step - loss: 0.4453 - acc: 0.8104\n",
      "Epoch 9/50\n",
      "15/15 [==============================] - 36s 2s/step - loss: 0.4253 - acc: 0.8188\n",
      "Epoch 10/50\n",
      "15/15 [==============================] - 47s 3s/step - loss: 0.4175 - acc: 0.8219\n",
      "Epoch 11/50\n",
      "15/15 [==============================] - 46s 3s/step - loss: 0.4264 - acc: 0.8323\n",
      "Epoch 12/50\n",
      "15/15 [==============================] - 42s 3s/step - loss: 0.4238 - acc: 0.8240\n",
      "Epoch 13/50\n",
      "15/15 [==============================] - 42s 3s/step - loss: 0.4262 - acc: 0.8302\n",
      "Epoch 14/50\n",
      "15/15 [==============================] - 42s 3s/step - loss: 0.3858 - acc: 0.8406\n",
      "Epoch 15/50\n",
      "15/15 [==============================] - 43s 3s/step - loss: 0.3836 - acc: 0.8365\n",
      "Epoch 16/50\n",
      "15/15 [==============================] - 43s 3s/step - loss: 0.4130 - acc: 0.8354\n",
      "Epoch 17/50\n",
      "15/15 [==============================] - 41s 3s/step - loss: 0.4032 - acc: 0.8250\n",
      "Epoch 18/50\n",
      "15/15 [==============================] - 42s 3s/step - loss: 0.3739 - acc: 0.8406\n",
      "Epoch 19/50\n",
      "15/15 [==============================] - 41s 3s/step - loss: 0.3754 - acc: 0.8396\n",
      "Epoch 20/50\n",
      "15/15 [==============================] - 40s 3s/step - loss: 0.3972 - acc: 0.8388\n",
      "Epoch 21/50\n",
      "15/15 [==============================] - 41s 3s/step - loss: 0.3556 - acc: 0.8583\n",
      "Epoch 22/50\n",
      "15/15 [==============================] - 40s 3s/step - loss: 0.3837 - acc: 0.8290\n",
      "Epoch 23/50\n",
      "15/15 [==============================] - 44s 3s/step - loss: 0.3983 - acc: 0.8365\n",
      "Epoch 24/50\n",
      "15/15 [==============================] - 41s 3s/step - loss: 0.4013 - acc: 0.8313\n",
      "Epoch 25/50\n",
      "15/15 [==============================] - 42s 3s/step - loss: 0.3795 - acc: 0.8333\n",
      "Epoch 26/50\n",
      "15/15 [==============================] - 42s 3s/step - loss: 0.3464 - acc: 0.8542\n",
      "Epoch 27/50\n",
      "15/15 [==============================] - 42s 3s/step - loss: 0.3826 - acc: 0.8469\n",
      "Epoch 28/50\n",
      "15/15 [==============================] - 41s 3s/step - loss: 0.4186 - acc: 0.8146\n",
      "Epoch 29/50\n",
      "15/15 [==============================] - 40s 3s/step - loss: 0.3673 - acc: 0.8344\n",
      "Epoch 30/50\n",
      "15/15 [==============================] - 41s 3s/step - loss: 0.3975 - acc: 0.8313\n",
      "Epoch 31/50\n",
      "15/15 [==============================] - 41s 3s/step - loss: 0.3901 - acc: 0.8312\n",
      "Epoch 32/50\n",
      "15/15 [==============================] - 40s 3s/step - loss: 0.3820 - acc: 0.8323\n",
      "Epoch 33/50\n",
      "15/15 [==============================] - 41s 3s/step - loss: 0.3402 - acc: 0.8490\n",
      "Epoch 34/50\n",
      "15/15 [==============================] - 43s 3s/step - loss: 0.3415 - acc: 0.8573\n",
      "Epoch 35/50\n",
      "15/15 [==============================] - 39s 3s/step - loss: 0.3319 - acc: 0.8469\n",
      "Epoch 36/50\n",
      "15/15 [==============================] - 44s 3s/step - loss: 0.3933 - acc: 0.8323\n",
      "Epoch 37/50\n",
      "15/15 [==============================] - 61s 4s/step - loss: 0.3461 - acc: 0.8573\n",
      "Epoch 38/50\n",
      "15/15 [==============================] - 52s 3s/step - loss: 0.3546 - acc: 0.8490\n",
      "Epoch 39/50\n",
      "15/15 [==============================] - 36s 2s/step - loss: 0.3614 - acc: 0.8333\n",
      "Epoch 40/50\n",
      "15/15 [==============================] - 34s 2s/step - loss: 0.3491 - acc: 0.8542\n",
      "Epoch 41/50\n",
      "15/15 [==============================] - 33s 2s/step - loss: 0.3389 - acc: 0.8510\n",
      "Epoch 42/50\n",
      "15/15 [==============================] - 35s 2s/step - loss: 0.3518 - acc: 0.8552\n",
      "Epoch 43/50\n",
      "15/15 [==============================] - 33s 2s/step - loss: 0.3702 - acc: 0.8406\n",
      "Epoch 44/50\n",
      "15/15 [==============================] - 38s 3s/step - loss: 0.3393 - acc: 0.8479\n",
      "Epoch 45/50\n",
      "15/15 [==============================] - 43s 3s/step - loss: 0.3626 - acc: 0.8406\n",
      "Epoch 46/50\n",
      "15/15 [==============================] - 42s 3s/step - loss: 0.3545 - acc: 0.8542\n",
      "Epoch 47/50\n",
      "15/15 [==============================] - 39s 3s/step - loss: 0.3290 - acc: 0.8604\n",
      "Epoch 48/50\n",
      "15/15 [==============================] - 40s 3s/step - loss: 0.3431 - acc: 0.8542\n",
      "Epoch 49/50\n",
      "15/15 [==============================] - 41s 3s/step - loss: 0.3236 - acc: 0.8656\n",
      "Epoch 50/50\n",
      "15/15 [==============================] - 38s 3s/step - loss: 0.3240 - acc: 0.8638\n"
     ]
    }
   ],
   "source": [
    "model.compile(loss='categorical_crossentropy', optimizer=Adam(lr=0.0001), metrics=['acc'])\n",
    "\n",
    "history = model.fit(\n",
    "    train_generator,\n",
    "    steps_per_epoch = 15,\n",
    "    epochs = 50,\n",
    "    validation_data = validation_generator,\n",
    "    validation_steps = 15\n",
    ")"
   ]
  },
  {
   "cell_type": "code",
   "execution_count": 14,
   "metadata": {},
   "outputs": [],
   "source": [
    "model.save('modelo.h5')"
   ]
  },
  {
   "cell_type": "code",
   "execution_count": null,
   "metadata": {},
   "outputs": [],
   "source": [
    "uploaded = files.upload()"
   ]
  }
 ],
 "metadata": {
  "interpreter": {
   "hash": "a10458a105a8e79ddae6e87d8d7ac092a033c24b6f91712e92075243430a1e09"
  },
  "kernelspec": {
   "display_name": "Python 3.10.1 64-bit",
   "language": "python",
   "name": "python3"
  },
  "language_info": {
   "codemirror_mode": {
    "name": "ipython",
    "version": 3
   },
   "file_extension": ".py",
   "mimetype": "text/x-python",
   "name": "python",
   "nbconvert_exporter": "python",
   "pygments_lexer": "ipython3",
   "version": "3.10.1"
  },
  "orig_nbformat": 4
 },
 "nbformat": 4,
 "nbformat_minor": 2
}
