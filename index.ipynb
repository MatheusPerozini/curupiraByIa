{
 "cells": [
  {
   "cell_type": "code",
   "execution_count": 7,
   "metadata": {},
   "outputs": [],
   "source": [
    "import pandas as pd;\n",
    "import tensorflow as tf\n",
    "import keras_preprocessing\n",
    "from keras_preprocessing import image\n",
    "from keras_preprocessing.image import ImageDataGenerator"
   ]
  },
  {
   "cell_type": "code",
   "execution_count": 8,
   "metadata": {},
   "outputs": [
    {
     "name": "stdout",
     "output_type": "stream",
     "text": [
      "Found 6166 images belonging to 2 classes.\n",
      "Found 0 images belonging to 0 classes.\n"
     ]
    }
   ],
   "source": [
    "TRAINING_DIR = \"./data/train\"\n",
    "VALIDATION_DIR = \"./data/valid\"\n",
    "\n",
    "training_datagen = ImageDataGenerator(rescale = 1./255, horizontal_flip = True, rotation_range = 30, height_shift_range = 0.2, fill_mode = 'nearest')\n",
    "validation_datagen = ImageDataGenerator(rescale = 1./255)\n",
    "\n",
    "train_generator = training_datagen.flow_from_directory(TRAINING_DIR, target_size = (244, 244), class_mode = 'categorical', batch_size = 64)\n",
    "validation_generator = validation_datagen.flow_from_directory(VALIDATION_DIR, target_size = (244, 244), class_mode = 'categorical', batch_size = 64)"
   ]
  },
  {
   "cell_type": "code",
   "execution_count": 9,
   "metadata": {},
   "outputs": [],
   "source": [
    "from tensorflow.keras.optimizers import Adam\n",
    "\n",
    "model = tf.keras.models.Sequential([\n",
    "    tf.keras.layers.Conv2D(96, (11, 11), strides = (4, 4), activation= 'relu', input_shape= (244, 244, 3)),\n",
    "    tf.keras.layers.MaxPooling2D(pool_size = (3, 3), strides = (2, 2)),\n",
    "    tf.keras.layers.Conv2D(256, (5,5), activation = 'relu'),\n",
    "    tf.keras.layers.MaxPooling2D(pool_size = (3, 3), strides = (2, 2)),\n",
    "    tf.keras.layers.Conv2D(384, (5,5), activation = 'relu'),\n",
    "    tf.keras.layers.MaxPooling2D(pool_size = (3, 3), strides = (2, 2)),\n",
    "    tf.keras.layers.Flatten(),\n",
    "    tf.keras.layers.Dropout(0.2),\n",
    "    tf.keras.layers.Dense(2048, activation = 'relu'),\n",
    "    tf.keras.layers.Dropout(0.25),\n",
    "    tf.keras.layers.Dense(1024, activation = 'relu'),\n",
    "    tf.keras.layers.Dropout(0.2),\n",
    "    tf.keras.layers.Dense(2, activation = 'softmax'),\n",
    "])"
   ]
  },
  {
   "cell_type": "code",
   "execution_count": 10,
   "metadata": {},
   "outputs": [
    {
     "name": "stderr",
     "output_type": "stream",
     "text": [
      "C:\\Users\\Matheus\\AppData\\Local\\Programs\\Python\\Python310\\lib\\site-packages\\keras\\optimizer_v2\\adam.py:105: UserWarning: The `lr` argument is deprecated, use `learning_rate` instead.\n",
      "  super(Adam, self).__init__(name, **kwargs)\n"
     ]
    },
    {
     "name": "stdout",
     "output_type": "stream",
     "text": [
      "Epoch 1/50\n",
      "15/15 [==============================] - 34s 2s/step - loss: 0.5267 - acc: 0.7691\n",
      "Epoch 2/50\n",
      "15/15 [==============================] - 40s 3s/step - loss: 0.5193 - acc: 0.7688\n",
      "Epoch 3/50\n",
      "15/15 [==============================] - 37s 2s/step - loss: 0.5052 - acc: 0.7792\n",
      "Epoch 4/50\n",
      "15/15 [==============================] - 31s 2s/step - loss: 0.4796 - acc: 0.7990\n",
      "Epoch 5/50\n",
      "15/15 [==============================] - 31s 2s/step - loss: 0.4326 - acc: 0.8292\n",
      "Epoch 6/50\n",
      "15/15 [==============================] - 31s 2s/step - loss: 0.4735 - acc: 0.7958\n",
      "Epoch 7/50\n",
      " 4/15 [=======>......................] - ETA: 22s - loss: 0.4516 - acc: 0.8242"
     ]
    },
    {
     "name": "stderr",
     "output_type": "stream",
     "text": [
      "C:\\Users\\Matheus\\AppData\\Local\\Programs\\Python\\Python310\\lib\\site-packages\\PIL\\Image.py:945: UserWarning: Palette images with Transparency expressed in bytes should be converted to RGBA images\n",
      "  warnings.warn(\n"
     ]
    },
    {
     "name": "stdout",
     "output_type": "stream",
     "text": [
      "15/15 [==============================] - 30s 2s/step - loss: 0.4178 - acc: 0.8355\n",
      "Epoch 8/50\n",
      "15/15 [==============================] - 31s 2s/step - loss: 0.4339 - acc: 0.8021\n",
      "Epoch 9/50\n",
      "15/15 [==============================] - 31s 2s/step - loss: 0.4173 - acc: 0.8281\n",
      "Epoch 10/50\n",
      "15/15 [==============================] - 32s 2s/step - loss: 0.4209 - acc: 0.8115\n",
      "Epoch 11/50\n",
      "15/15 [==============================] - 31s 2s/step - loss: 0.4009 - acc: 0.8302\n",
      "Epoch 12/50\n",
      "15/15 [==============================] - 31s 2s/step - loss: 0.4344 - acc: 0.8240\n",
      "Epoch 13/50\n",
      "15/15 [==============================] - 34s 2s/step - loss: 0.3919 - acc: 0.8385\n",
      "Epoch 14/50\n",
      "15/15 [==============================] - 35s 2s/step - loss: 0.4258 - acc: 0.8188\n",
      "Epoch 15/50\n",
      "15/15 [==============================] - 30s 2s/step - loss: 0.3946 - acc: 0.8302\n",
      "Epoch 16/50\n",
      "15/15 [==============================] - 29s 2s/step - loss: 0.4310 - acc: 0.8170\n",
      "Epoch 17/50\n",
      "15/15 [==============================] - 31s 2s/step - loss: 0.4199 - acc: 0.8219\n",
      "Epoch 18/50\n",
      "15/15 [==============================] - 30s 2s/step - loss: 0.3873 - acc: 0.8290\n",
      "Epoch 19/50\n",
      "15/15 [==============================] - 30s 2s/step - loss: 0.3877 - acc: 0.8281\n",
      "Epoch 20/50\n",
      "15/15 [==============================] - 31s 2s/step - loss: 0.3953 - acc: 0.8281\n",
      "Epoch 21/50\n",
      "15/15 [==============================] - 29s 2s/step - loss: 0.3950 - acc: 0.8290\n",
      "Epoch 22/50\n",
      "15/15 [==============================] - 30s 2s/step - loss: 0.3737 - acc: 0.8333\n",
      "Epoch 23/50\n",
      "15/15 [==============================] - 31s 2s/step - loss: 0.3555 - acc: 0.8354\n",
      "Epoch 24/50\n",
      "15/15 [==============================] - 31s 2s/step - loss: 0.4164 - acc: 0.8177\n",
      "Epoch 25/50\n",
      "15/15 [==============================] - 30s 2s/step - loss: 0.3658 - acc: 0.8500\n",
      "Epoch 26/50\n",
      "15/15 [==============================] - 29s 2s/step - loss: 0.4053 - acc: 0.8292\n",
      "Epoch 27/50\n",
      "15/15 [==============================] - 28s 2s/step - loss: 0.3820 - acc: 0.8271\n",
      "Epoch 28/50\n",
      "15/15 [==============================] - 28s 2s/step - loss: 0.3614 - acc: 0.8458\n",
      "Epoch 29/50\n",
      "15/15 [==============================] - 28s 2s/step - loss: 0.3500 - acc: 0.8531\n",
      "Epoch 30/50\n",
      "15/15 [==============================] - 31s 2s/step - loss: 0.3589 - acc: 0.8385\n",
      "Epoch 31/50\n",
      "15/15 [==============================] - 31s 2s/step - loss: 0.3591 - acc: 0.8490\n",
      "Epoch 32/50\n",
      "15/15 [==============================] - 30s 2s/step - loss: 0.3722 - acc: 0.8475\n",
      "Epoch 33/50\n",
      "15/15 [==============================] - 31s 2s/step - loss: 0.3298 - acc: 0.8427\n",
      "Epoch 34/50\n",
      "15/15 [==============================] - 33s 2s/step - loss: 0.4209 - acc: 0.8229\n",
      "Epoch 35/50\n",
      "15/15 [==============================] - 41s 3s/step - loss: 0.3942 - acc: 0.8406\n",
      "Epoch 36/50\n",
      "15/15 [==============================] - 44s 3s/step - loss: 0.3902 - acc: 0.8313\n",
      "Epoch 37/50\n",
      "15/15 [==============================] - 38s 2s/step - loss: 0.3763 - acc: 0.8453\n",
      "Epoch 38/50\n",
      "15/15 [==============================] - 35s 2s/step - loss: 0.3656 - acc: 0.8365\n",
      "Epoch 39/50\n",
      "15/15 [==============================] - 34s 2s/step - loss: 0.3410 - acc: 0.8458\n",
      "Epoch 40/50\n",
      "15/15 [==============================] - 42s 3s/step - loss: 0.3420 - acc: 0.8594\n",
      "Epoch 41/50\n",
      "15/15 [==============================] - 39s 3s/step - loss: 0.3401 - acc: 0.8420\n",
      "Epoch 42/50\n",
      "15/15 [==============================] - 38s 3s/step - loss: 0.3496 - acc: 0.8500\n",
      "Epoch 43/50\n",
      "15/15 [==============================] - 37s 2s/step - loss: 0.3664 - acc: 0.8410\n",
      "Epoch 44/50\n",
      "15/15 [==============================] - 40s 3s/step - loss: 0.3521 - acc: 0.8615\n",
      "Epoch 45/50\n",
      "15/15 [==============================] - 39s 3s/step - loss: 0.3519 - acc: 0.8552\n",
      "Epoch 46/50\n",
      "15/15 [==============================] - 39s 3s/step - loss: 0.3484 - acc: 0.8625\n",
      "Epoch 47/50\n",
      "15/15 [==============================] - 39s 3s/step - loss: 0.3235 - acc: 0.8687\n",
      "Epoch 48/50\n",
      "15/15 [==============================] - 40s 3s/step - loss: 0.3776 - acc: 0.8479\n",
      "Epoch 49/50\n",
      "15/15 [==============================] - 37s 2s/step - loss: 0.3774 - acc: 0.8458\n",
      "Epoch 50/50\n",
      "15/15 [==============================] - 39s 3s/step - loss: 0.3415 - acc: 0.8521\n"
     ]
    }
   ],
   "source": [
    "model.compile(loss='categorical_crossentropy', optimizer=Adam(lr=0.0001), metrics=['acc'])\n",
    "\n",
    "history = model.fit(\n",
    "    train_generator,\n",
    "    steps_per_epoch = 15,\n",
    "    epochs = 50,\n",
    "    validation_data = validation_generator,\n",
    "    validation_steps = 15\n",
    ")"
   ]
  },
  {
   "cell_type": "code",
   "execution_count": 11,
   "metadata": {},
   "outputs": [
    {
     "name": "stdout",
     "output_type": "stream",
     "text": [
      "INFO:tensorflow:Assets written to: ram://f5b31837-3217-49cc-ac5e-b02fb1250855/assets\n"
     ]
    },
    {
     "data": {
      "text/plain": [
       "['./outputs/modelo/modelo.sav']"
      ]
     },
     "execution_count": 11,
     "metadata": {},
     "output_type": "execute_result"
    }
   ],
   "source": [
    "import joblib\n",
    "\n",
    "model.save('./outputs/modelo/modelo.h5')\n",
    "joblib.dump(history, \"./outputs/modelo/modelo.sav\")"
   ]
  },
  {
   "cell_type": "code",
   "execution_count": 28,
   "metadata": {},
   "outputs": [
    {
     "data": {
      "text/plain": [
       "<matplotlib.legend.Legend at 0x2094b2b57b0>"
      ]
     },
     "execution_count": 28,
     "metadata": {},
     "output_type": "execute_result"
    },
    {
     "data": {
      "image/png": "[encoded data removed]",
      "text/plain": [
       "<Figure size 432x288 with 1 Axes>"
      ]
     },
     "metadata": {
      "needs_background": "light"
     },
     "output_type": "display_data"
    }
   ],
   "source": [
    "import joblib\n",
    "import matplotlib.pyplot as plt\n",
    "from tensorflow.keras.models import load_model\n",
    "\n",
    "# saved_model = load_model('outputs/modelo/modelo.h5')\n",
    "# saved_history = joblib.load(\"modelo.sav\")\n",
    "# print(saved_history)\n",
    "plt.plot(history.history['acc'])\n",
    "plt.plot(history.history['loss'])\n",
    "plt.title('Acuracia modelo 1')\n",
    "plt.xlabel('épocas')\n",
    "plt.ylabel('acurácias')\n",
    "plt.legend(['acuracia','perda'])"
   ]
  }
 ],
 "metadata": {
  "interpreter": {
   "hash": "a10458a105a8e79ddae6e87d8d7ac092a033c24b6f91712e92075243430a1e09"
  },
  "kernelspec": {
   "display_name": "Python 3.10.1 64-bit",
   "language": "python",
   "name": "python3"
  },
  "language_info": {
   "codemirror_mode": {
    "name": "ipython",
    "version": 3
   },
   "file_extension": ".py",
   "mimetype": "text/x-python",
   "name": "python",
   "nbconvert_exporter": "python",
   "pygments_lexer": "ipython3",
   "version": "3.10.1"
  },
  "orig_nbformat": 4
 },
 "nbformat": 4,
 "nbformat_minor": 2
}
